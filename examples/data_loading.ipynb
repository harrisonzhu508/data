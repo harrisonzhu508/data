{
 "cells": [
  {
   "cell_type": "markdown",
   "metadata": {},
   "source": [
    "# Loading the Open COVID-19 Dataset\n",
    "This very short notebook showcases how to load the [Open COVID-19 datset](https://github.com/open-covid-19/data), including some examples for commonly performed operations.\n",
    "\n",
    "First, loading the data is very simple with `pandas`. We can use the CSV master table to download the entire Open COVID-19 dataset in a single step:"
   ]
  },
  {
   "cell_type": "code",
   "execution_count": 1,
   "metadata": {},
   "outputs": [
    {
     "output_type": "stream",
     "name": "stdout",
     "text": "The dataset currently contains 272995 records, here are the last few:\n"
    },
    {
     "output_type": "execute_result",
     "data": {
      "text/plain": "       key wikidata  datacommons country_code country_name subregion1_code  \\\n272990  ZW     Q954  country/ZWE           ZW     Zimbabwe             NaN   \n272991  ZW     Q954  country/ZWE           ZW     Zimbabwe             NaN   \n272992  ZW     Q954  country/ZWE           ZW     Zimbabwe             NaN   \n272993  ZW     Q954  country/ZWE           ZW     Zimbabwe             NaN   \n272994  ZW     Q954  country/ZWE           ZW     Zimbabwe             NaN   \n\n       subregion1_name subregion2_code subregion2_name 3166-1-alpha-2  ...  \\\n272990             NaN             NaN             NaN             ZW  ...   \n272991             NaN             NaN             NaN             ZW  ...   \n272992             NaN             NaN             NaN             ZW  ...   \n272993             NaN             NaN             NaN             ZW  ...   \n272994             NaN             NaN             NaN             ZW  ...   \n\n       life_expectancy  human_development_index  \\\n272990          61.163                    0.535   \n272991          61.163                    0.535   \n272992          61.163                    0.535   \n272993          61.163                    0.535   \n272994          61.163                    0.535   \n\n        mobility_retail_and_recreation  mobility_grocery_and_pharmacy  \\\n272990                             NaN                            NaN   \n272991                             NaN                            NaN   \n272992                             NaN                            NaN   \n272993                             NaN                            NaN   \n272994                             NaN                            NaN   \n\n        mobility_parks  mobility_transit_stations mobility_workplaces  \\\n272990             NaN                        NaN                 NaN   \n272991             NaN                        NaN                 NaN   \n272992             NaN                        NaN                 NaN   \n272993             NaN                        NaN                 NaN   \n272994             NaN                        NaN                 NaN   \n\n        mobility_residential           gdp  gdp_per_capita  \n272990                   NaN  1.784582e+10          1333.0  \n272991                   NaN  1.784582e+10          1333.0  \n272992                   NaN  1.784582e+10          1333.0  \n272993                   NaN  1.784582e+10          1333.0  \n272994                   NaN  1.784582e+10          1333.0  \n\n[5 rows x 69 columns]",
      "text/html": "<div>\n<style scoped>\n    .dataframe tbody tr th:only-of-type {\n        vertical-align: middle;\n    }\n\n    .dataframe tbody tr th {\n        vertical-align: top;\n    }\n\n    .dataframe thead th {\n        text-align: right;\n    }\n</style>\n<table border=\"1\" class=\"dataframe\">\n  <thead>\n    <tr style=\"text-align: right;\">\n      <th></th>\n      <th>key</th>\n      <th>wikidata</th>\n      <th>datacommons</th>\n      <th>country_code</th>\n      <th>country_name</th>\n      <th>subregion1_code</th>\n      <th>subregion1_name</th>\n      <th>subregion2_code</th>\n      <th>subregion2_name</th>\n      <th>3166-1-alpha-2</th>\n      <th>...</th>\n      <th>life_expectancy</th>\n      <th>human_development_index</th>\n      <th>mobility_retail_and_recreation</th>\n      <th>mobility_grocery_and_pharmacy</th>\n      <th>mobility_parks</th>\n      <th>mobility_transit_stations</th>\n      <th>mobility_workplaces</th>\n      <th>mobility_residential</th>\n      <th>gdp</th>\n      <th>gdp_per_capita</th>\n    </tr>\n  </thead>\n  <tbody>\n    <tr>\n      <th>272990</th>\n      <td>ZW</td>\n      <td>Q954</td>\n      <td>country/ZWE</td>\n      <td>ZW</td>\n      <td>Zimbabwe</td>\n      <td>NaN</td>\n      <td>NaN</td>\n      <td>NaN</td>\n      <td>NaN</td>\n      <td>ZW</td>\n      <td>...</td>\n      <td>61.163</td>\n      <td>0.535</td>\n      <td>NaN</td>\n      <td>NaN</td>\n      <td>NaN</td>\n      <td>NaN</td>\n      <td>NaN</td>\n      <td>NaN</td>\n      <td>1.784582e+10</td>\n      <td>1333.0</td>\n    </tr>\n    <tr>\n      <th>272991</th>\n      <td>ZW</td>\n      <td>Q954</td>\n      <td>country/ZWE</td>\n      <td>ZW</td>\n      <td>Zimbabwe</td>\n      <td>NaN</td>\n      <td>NaN</td>\n      <td>NaN</td>\n      <td>NaN</td>\n      <td>ZW</td>\n      <td>...</td>\n      <td>61.163</td>\n      <td>0.535</td>\n      <td>NaN</td>\n      <td>NaN</td>\n      <td>NaN</td>\n      <td>NaN</td>\n      <td>NaN</td>\n      <td>NaN</td>\n      <td>1.784582e+10</td>\n      <td>1333.0</td>\n    </tr>\n    <tr>\n      <th>272992</th>\n      <td>ZW</td>\n      <td>Q954</td>\n      <td>country/ZWE</td>\n      <td>ZW</td>\n      <td>Zimbabwe</td>\n      <td>NaN</td>\n      <td>NaN</td>\n      <td>NaN</td>\n      <td>NaN</td>\n      <td>ZW</td>\n      <td>...</td>\n      <td>61.163</td>\n      <td>0.535</td>\n      <td>NaN</td>\n      <td>NaN</td>\n      <td>NaN</td>\n      <td>NaN</td>\n      <td>NaN</td>\n      <td>NaN</td>\n      <td>1.784582e+10</td>\n      <td>1333.0</td>\n    </tr>\n    <tr>\n      <th>272993</th>\n      <td>ZW</td>\n      <td>Q954</td>\n      <td>country/ZWE</td>\n      <td>ZW</td>\n      <td>Zimbabwe</td>\n      <td>NaN</td>\n      <td>NaN</td>\n      <td>NaN</td>\n      <td>NaN</td>\n      <td>ZW</td>\n      <td>...</td>\n      <td>61.163</td>\n      <td>0.535</td>\n      <td>NaN</td>\n      <td>NaN</td>\n      <td>NaN</td>\n      <td>NaN</td>\n      <td>NaN</td>\n      <td>NaN</td>\n      <td>1.784582e+10</td>\n      <td>1333.0</td>\n    </tr>\n    <tr>\n      <th>272994</th>\n      <td>ZW</td>\n      <td>Q954</td>\n      <td>country/ZWE</td>\n      <td>ZW</td>\n      <td>Zimbabwe</td>\n      <td>NaN</td>\n      <td>NaN</td>\n      <td>NaN</td>\n      <td>NaN</td>\n      <td>ZW</td>\n      <td>...</td>\n      <td>61.163</td>\n      <td>0.535</td>\n      <td>NaN</td>\n      <td>NaN</td>\n      <td>NaN</td>\n      <td>NaN</td>\n      <td>NaN</td>\n      <td>NaN</td>\n      <td>1.784582e+10</td>\n      <td>1333.0</td>\n    </tr>\n  </tbody>\n</table>\n<p>5 rows × 69 columns</p>\n</div>"
     },
     "metadata": {},
     "execution_count": 1
    }
   ],
   "source": [
    "import pandas as pd\n",
    "\n",
    "# Load CSV data directly from the URL with pandas\n",
    "data = pd.read_csv('https://open-covid-19.github.io/data/v2/master.csv')\n",
    "\n",
    "# Print a small snippet of the dataset\n",
    "print('The dataset currently contains %d records, here are the last few:' % len(data))\n",
    "data.sample(5)"
   ]
  },
  {
   "cell_type": "markdown",
   "metadata": {},
   "source": [
    "### Looking at country-level data\n",
    "Some records contain country-level data, in other words, data that is aggregated at the country level. Other records contain region-level data, which are subdivisions of a country; for example, Chinese provinces or USA states. A few regions also report at an even smaller subdivision, i.e. county/municipality level.\n",
    "\n",
    "To filter only country-level data from the dataset, look for records that have a `aggregation_level == 0` or, alternatively, null value for the `subregion1_code` (or `subregion1_name`) field:"
   ]
  },
  {
   "cell_type": "code",
   "execution_count": 2,
   "metadata": {},
   "outputs": [
    {
     "output_type": "execute_result",
     "data": {
      "text/plain": "       key wikidata  datacommons country_code country_name 3166-1-alpha-2  \\\n272990  ZW     Q954  country/ZWE           ZW     Zimbabwe             ZW   \n272991  ZW     Q954  country/ZWE           ZW     Zimbabwe             ZW   \n272992  ZW     Q954  country/ZWE           ZW     Zimbabwe             ZW   \n272993  ZW     Q954  country/ZWE           ZW     Zimbabwe             ZW   \n272994  ZW     Q954  country/ZWE           ZW     Zimbabwe             ZW   \n\n       3166-1-alpha-3  aggregation_level  latitude  longitude  ...  \\\n272990            ZWE                  0     -19.0       30.0  ...   \n272991            ZWE                  0     -19.0       30.0  ...   \n272992            ZWE                  0     -19.0       30.0  ...   \n272993            ZWE                  0     -19.0       30.0  ...   \n272994            ZWE                  0     -19.0       30.0  ...   \n\n        life_expectancy  human_development_index  \\\n272990           61.163                    0.535   \n272991           61.163                    0.535   \n272992           61.163                    0.535   \n272993           61.163                    0.535   \n272994           61.163                    0.535   \n\n       mobility_retail_and_recreation  mobility_grocery_and_pharmacy  \\\n272990                            NaN                            NaN   \n272991                            NaN                            NaN   \n272992                            NaN                            NaN   \n272993                            NaN                            NaN   \n272994                            NaN                            NaN   \n\n        mobility_parks  mobility_transit_stations  mobility_workplaces  \\\n272990             NaN                        NaN                  NaN   \n272991             NaN                        NaN                  NaN   \n272992             NaN                        NaN                  NaN   \n272993             NaN                        NaN                  NaN   \n272994             NaN                        NaN                  NaN   \n\n        mobility_residential           gdp  gdp_per_capita  \n272990                   NaN  1.784582e+10          1333.0  \n272991                   NaN  1.784582e+10          1333.0  \n272992                   NaN  1.784582e+10          1333.0  \n272993                   NaN  1.784582e+10          1333.0  \n272994                   NaN  1.784582e+10          1333.0  \n\n[5 rows x 65 columns]",
      "text/html": "<div>\n<style scoped>\n    .dataframe tbody tr th:only-of-type {\n        vertical-align: middle;\n    }\n\n    .dataframe tbody tr th {\n        vertical-align: top;\n    }\n\n    .dataframe thead th {\n        text-align: right;\n    }\n</style>\n<table border=\"1\" class=\"dataframe\">\n  <thead>\n    <tr style=\"text-align: right;\">\n      <th></th>\n      <th>key</th>\n      <th>wikidata</th>\n      <th>datacommons</th>\n      <th>country_code</th>\n      <th>country_name</th>\n      <th>3166-1-alpha-2</th>\n      <th>3166-1-alpha-3</th>\n      <th>aggregation_level</th>\n      <th>latitude</th>\n      <th>longitude</th>\n      <th>...</th>\n      <th>life_expectancy</th>\n      <th>human_development_index</th>\n      <th>mobility_retail_and_recreation</th>\n      <th>mobility_grocery_and_pharmacy</th>\n      <th>mobility_parks</th>\n      <th>mobility_transit_stations</th>\n      <th>mobility_workplaces</th>\n      <th>mobility_residential</th>\n      <th>gdp</th>\n      <th>gdp_per_capita</th>\n    </tr>\n  </thead>\n  <tbody>\n    <tr>\n      <th>272990</th>\n      <td>ZW</td>\n      <td>Q954</td>\n      <td>country/ZWE</td>\n      <td>ZW</td>\n      <td>Zimbabwe</td>\n      <td>ZW</td>\n      <td>ZWE</td>\n      <td>0</td>\n      <td>-19.0</td>\n      <td>30.0</td>\n      <td>...</td>\n      <td>61.163</td>\n      <td>0.535</td>\n      <td>NaN</td>\n      <td>NaN</td>\n      <td>NaN</td>\n      <td>NaN</td>\n      <td>NaN</td>\n      <td>NaN</td>\n      <td>1.784582e+10</td>\n      <td>1333.0</td>\n    </tr>\n    <tr>\n      <th>272991</th>\n      <td>ZW</td>\n      <td>Q954</td>\n      <td>country/ZWE</td>\n      <td>ZW</td>\n      <td>Zimbabwe</td>\n      <td>ZW</td>\n      <td>ZWE</td>\n      <td>0</td>\n      <td>-19.0</td>\n      <td>30.0</td>\n      <td>...</td>\n      <td>61.163</td>\n      <td>0.535</td>\n      <td>NaN</td>\n      <td>NaN</td>\n      <td>NaN</td>\n      <td>NaN</td>\n      <td>NaN</td>\n      <td>NaN</td>\n      <td>1.784582e+10</td>\n      <td>1333.0</td>\n    </tr>\n    <tr>\n      <th>272992</th>\n      <td>ZW</td>\n      <td>Q954</td>\n      <td>country/ZWE</td>\n      <td>ZW</td>\n      <td>Zimbabwe</td>\n      <td>ZW</td>\n      <td>ZWE</td>\n      <td>0</td>\n      <td>-19.0</td>\n      <td>30.0</td>\n      <td>...</td>\n      <td>61.163</td>\n      <td>0.535</td>\n      <td>NaN</td>\n      <td>NaN</td>\n      <td>NaN</td>\n      <td>NaN</td>\n      <td>NaN</td>\n      <td>NaN</td>\n      <td>1.784582e+10</td>\n      <td>1333.0</td>\n    </tr>\n    <tr>\n      <th>272993</th>\n      <td>ZW</td>\n      <td>Q954</td>\n      <td>country/ZWE</td>\n      <td>ZW</td>\n      <td>Zimbabwe</td>\n      <td>ZW</td>\n      <td>ZWE</td>\n      <td>0</td>\n      <td>-19.0</td>\n      <td>30.0</td>\n      <td>...</td>\n      <td>61.163</td>\n      <td>0.535</td>\n      <td>NaN</td>\n      <td>NaN</td>\n      <td>NaN</td>\n      <td>NaN</td>\n      <td>NaN</td>\n      <td>NaN</td>\n      <td>1.784582e+10</td>\n      <td>1333.0</td>\n    </tr>\n    <tr>\n      <th>272994</th>\n      <td>ZW</td>\n      <td>Q954</td>\n      <td>country/ZWE</td>\n      <td>ZW</td>\n      <td>Zimbabwe</td>\n      <td>ZW</td>\n      <td>ZWE</td>\n      <td>0</td>\n      <td>-19.0</td>\n      <td>30.0</td>\n      <td>...</td>\n      <td>61.163</td>\n      <td>0.535</td>\n      <td>NaN</td>\n      <td>NaN</td>\n      <td>NaN</td>\n      <td>NaN</td>\n      <td>NaN</td>\n      <td>NaN</td>\n      <td>1.784582e+10</td>\n      <td>1333.0</td>\n    </tr>\n  </tbody>\n</table>\n<p>5 rows × 65 columns</p>\n</div>"
     },
     "metadata": {},
     "execution_count": 2
    }
   ],
   "source": [
    "# Look for rows with country level data\n",
    "# Same as `data[data.subregion2_code.isna()]`\n",
    "countries = data[data.aggregation_level == 0]\n",
    "\n",
    "# We no longer need the subregion-level columns\n",
    "countries = countries.drop(columns=['subregion1_code', 'subregion1_name', 'subregion2_code', 'subregion2_name'])\n",
    "\n",
    "countries.tail()"
   ]
  },
  {
   "cell_type": "markdown",
   "metadata": {},
   "source": [
    "### Looking at state/province data\n",
    "Conversely, to filter state/province data for a specific country, we need to look for records where the aggregation level is `1` (or where the region columns have non-null values). The following snippet extracts data related to Spain's subregions from the dataset:"
   ]
  },
  {
   "cell_type": "code",
   "execution_count": 3,
   "metadata": {},
   "outputs": [
    {
     "output_type": "execute_result",
     "data": {
      "text/plain": "         key wikidata datacommons country_code country_name subregion1_code  \\\n23676  ES_VC    Q5720   nuts/ES52           ES        Spain              VC   \n23677  ES_VC    Q5720   nuts/ES52           ES        Spain              VC   \n23678  ES_VC    Q5720   nuts/ES52           ES        Spain              VC   \n23679  ES_VC    Q5720   nuts/ES52           ES        Spain              VC   \n23680  ES_VC    Q5720   nuts/ES52           ES        Spain              VC   \n\n            subregion1_name 3166-1-alpha-2 3166-1-alpha-3  aggregation_level  \\\n23676  Comunidad Valenciana             ES            ESP                  1   \n23677  Comunidad Valenciana             ES            ESP                  1   \n23678  Comunidad Valenciana             ES            ESP                  1   \n23679  Comunidad Valenciana             ES            ESP                  1   \n23680  Comunidad Valenciana             ES            ESP                  1   \n\n       ...  life_expectancy  human_development_index  \\\n23676  ...              NaN                      NaN   \n23677  ...              NaN                      NaN   \n23678  ...              NaN                      NaN   \n23679  ...              NaN                      NaN   \n23680  ...              NaN                      NaN   \n\n       mobility_retail_and_recreation  mobility_grocery_and_pharmacy  \\\n23676                             NaN                            NaN   \n23677                             NaN                            NaN   \n23678                             NaN                            NaN   \n23679                             NaN                            NaN   \n23680                             NaN                            NaN   \n\n      mobility_parks  mobility_transit_stations  mobility_workplaces  \\\n23676            NaN                        NaN                  NaN   \n23677            NaN                        NaN                  NaN   \n23678            NaN                        NaN                  NaN   \n23679            NaN                        NaN                  NaN   \n23680            NaN                        NaN                  NaN   \n\n       mobility_residential  gdp  gdp_per_capita  \n23676                   NaN  NaN             NaN  \n23677                   NaN  NaN             NaN  \n23678                   NaN  NaN             NaN  \n23679                   NaN  NaN             NaN  \n23680                   NaN  NaN             NaN  \n\n[5 rows x 67 columns]",
      "text/html": "<div>\n<style scoped>\n    .dataframe tbody tr th:only-of-type {\n        vertical-align: middle;\n    }\n\n    .dataframe tbody tr th {\n        vertical-align: top;\n    }\n\n    .dataframe thead th {\n        text-align: right;\n    }\n</style>\n<table border=\"1\" class=\"dataframe\">\n  <thead>\n    <tr style=\"text-align: right;\">\n      <th></th>\n      <th>key</th>\n      <th>wikidata</th>\n      <th>datacommons</th>\n      <th>country_code</th>\n      <th>country_name</th>\n      <th>subregion1_code</th>\n      <th>subregion1_name</th>\n      <th>3166-1-alpha-2</th>\n      <th>3166-1-alpha-3</th>\n      <th>aggregation_level</th>\n      <th>...</th>\n      <th>life_expectancy</th>\n      <th>human_development_index</th>\n      <th>mobility_retail_and_recreation</th>\n      <th>mobility_grocery_and_pharmacy</th>\n      <th>mobility_parks</th>\n      <th>mobility_transit_stations</th>\n      <th>mobility_workplaces</th>\n      <th>mobility_residential</th>\n      <th>gdp</th>\n      <th>gdp_per_capita</th>\n    </tr>\n  </thead>\n  <tbody>\n    <tr>\n      <th>23676</th>\n      <td>ES_VC</td>\n      <td>Q5720</td>\n      <td>nuts/ES52</td>\n      <td>ES</td>\n      <td>Spain</td>\n      <td>VC</td>\n      <td>Comunidad Valenciana</td>\n      <td>ES</td>\n      <td>ESP</td>\n      <td>1</td>\n      <td>...</td>\n      <td>NaN</td>\n      <td>NaN</td>\n      <td>NaN</td>\n      <td>NaN</td>\n      <td>NaN</td>\n      <td>NaN</td>\n      <td>NaN</td>\n      <td>NaN</td>\n      <td>NaN</td>\n      <td>NaN</td>\n    </tr>\n    <tr>\n      <th>23677</th>\n      <td>ES_VC</td>\n      <td>Q5720</td>\n      <td>nuts/ES52</td>\n      <td>ES</td>\n      <td>Spain</td>\n      <td>VC</td>\n      <td>Comunidad Valenciana</td>\n      <td>ES</td>\n      <td>ESP</td>\n      <td>1</td>\n      <td>...</td>\n      <td>NaN</td>\n      <td>NaN</td>\n      <td>NaN</td>\n      <td>NaN</td>\n      <td>NaN</td>\n      <td>NaN</td>\n      <td>NaN</td>\n      <td>NaN</td>\n      <td>NaN</td>\n      <td>NaN</td>\n    </tr>\n    <tr>\n      <th>23678</th>\n      <td>ES_VC</td>\n      <td>Q5720</td>\n      <td>nuts/ES52</td>\n      <td>ES</td>\n      <td>Spain</td>\n      <td>VC</td>\n      <td>Comunidad Valenciana</td>\n      <td>ES</td>\n      <td>ESP</td>\n      <td>1</td>\n      <td>...</td>\n      <td>NaN</td>\n      <td>NaN</td>\n      <td>NaN</td>\n      <td>NaN</td>\n      <td>NaN</td>\n      <td>NaN</td>\n      <td>NaN</td>\n      <td>NaN</td>\n      <td>NaN</td>\n      <td>NaN</td>\n    </tr>\n    <tr>\n      <th>23679</th>\n      <td>ES_VC</td>\n      <td>Q5720</td>\n      <td>nuts/ES52</td>\n      <td>ES</td>\n      <td>Spain</td>\n      <td>VC</td>\n      <td>Comunidad Valenciana</td>\n      <td>ES</td>\n      <td>ESP</td>\n      <td>1</td>\n      <td>...</td>\n      <td>NaN</td>\n      <td>NaN</td>\n      <td>NaN</td>\n      <td>NaN</td>\n      <td>NaN</td>\n      <td>NaN</td>\n      <td>NaN</td>\n      <td>NaN</td>\n      <td>NaN</td>\n      <td>NaN</td>\n    </tr>\n    <tr>\n      <th>23680</th>\n      <td>ES_VC</td>\n      <td>Q5720</td>\n      <td>nuts/ES52</td>\n      <td>ES</td>\n      <td>Spain</td>\n      <td>VC</td>\n      <td>Comunidad Valenciana</td>\n      <td>ES</td>\n      <td>ESP</td>\n      <td>1</td>\n      <td>...</td>\n      <td>NaN</td>\n      <td>NaN</td>\n      <td>NaN</td>\n      <td>NaN</td>\n      <td>NaN</td>\n      <td>NaN</td>\n      <td>NaN</td>\n      <td>NaN</td>\n      <td>NaN</td>\n      <td>NaN</td>\n    </tr>\n  </tbody>\n</table>\n<p>5 rows × 67 columns</p>\n</div>"
     },
     "metadata": {},
     "execution_count": 3
    }
   ],
   "source": [
    "# Filter records that have the right country code AND a non-null region code\n",
    "# Same as `data[(data.country_code == 'ES') & ~(data.subregion`_code.isna())]`\n",
    "spain_regions = data[(data.country_code == 'ES') & (data.aggregation_level == 1)]\n",
    "\n",
    "# We no longer need the municipality-level columns\n",
    "spain_regions = spain_regions.drop(columns=['subregion2_code', 'subregion2_name'])\n",
    "\n",
    "spain_regions.tail()"
   ]
  },
  {
   "cell_type": "markdown",
   "metadata": {},
   "source": [
    "### Using the `key` column\n",
    "The `key` column is present in all datasets and is unique for each combination of country, province/state and municipality/county. This way, we can retrieve a specific country or region using a single filter for the data. The `key` column is built using `country_code` for country-level data, `${country_code}_${subregion1_code}` for province/state level data, and `${country_code}_${subregion1_code}_${subregion2_code}` for municipality/county data:"
   ]
  },
  {
   "cell_type": "code",
   "execution_count": 4,
   "metadata": {},
   "outputs": [
    {
     "output_type": "execute_result",
     "data": {
      "text/plain": "      key wikidata  datacommons country_code country_name 3166-1-alpha-2  \\\n21947  ES      Q29  country/ESP           ES        Spain             ES   \n21948  ES      Q29  country/ESP           ES        Spain             ES   \n21949  ES      Q29  country/ESP           ES        Spain             ES   \n21950  ES      Q29  country/ESP           ES        Spain             ES   \n21951  ES      Q29  country/ESP           ES        Spain             ES   \n\n      3166-1-alpha-3  aggregation_level  latitude  longitude  ...  \\\n21947            ESP                  0      40.0       -3.0  ...   \n21948            ESP                  0      40.0       -3.0  ...   \n21949            ESP                  0      40.0       -3.0  ...   \n21950            ESP                  0      40.0       -3.0  ...   \n21951            ESP                  0      40.0       -3.0  ...   \n\n       life_expectancy  human_development_index  \\\n21947         82.83171                    0.891   \n21948         82.83171                    0.891   \n21949         82.83171                    0.891   \n21950         82.83171                    0.891   \n21951         82.83171                    0.891   \n\n      mobility_retail_and_recreation  mobility_grocery_and_pharmacy  \\\n21947                            NaN                            NaN   \n21948                            NaN                            NaN   \n21949                            NaN                            NaN   \n21950                            NaN                            NaN   \n21951                            NaN                            NaN   \n\n       mobility_parks  mobility_transit_stations  mobility_workplaces  \\\n21947             NaN                        NaN                  NaN   \n21948             NaN                        NaN                  NaN   \n21949             NaN                        NaN                  NaN   \n21950             NaN                        NaN                  NaN   \n21951             NaN                        NaN                  NaN   \n\n       mobility_residential           gdp  gdp_per_capita  \n21947                   NaN  1.311320e+12         28208.0  \n21948                   NaN  1.311320e+12         28208.0  \n21949                   NaN  1.311320e+12         28208.0  \n21950                   NaN  1.311320e+12         28208.0  \n21951                   NaN  1.311320e+12         28208.0  \n\n[5 rows x 65 columns]",
      "text/html": "<div>\n<style scoped>\n    .dataframe tbody tr th:only-of-type {\n        vertical-align: middle;\n    }\n\n    .dataframe tbody tr th {\n        vertical-align: top;\n    }\n\n    .dataframe thead th {\n        text-align: right;\n    }\n</style>\n<table border=\"1\" class=\"dataframe\">\n  <thead>\n    <tr style=\"text-align: right;\">\n      <th></th>\n      <th>key</th>\n      <th>wikidata</th>\n      <th>datacommons</th>\n      <th>country_code</th>\n      <th>country_name</th>\n      <th>3166-1-alpha-2</th>\n      <th>3166-1-alpha-3</th>\n      <th>aggregation_level</th>\n      <th>latitude</th>\n      <th>longitude</th>\n      <th>...</th>\n      <th>life_expectancy</th>\n      <th>human_development_index</th>\n      <th>mobility_retail_and_recreation</th>\n      <th>mobility_grocery_and_pharmacy</th>\n      <th>mobility_parks</th>\n      <th>mobility_transit_stations</th>\n      <th>mobility_workplaces</th>\n      <th>mobility_residential</th>\n      <th>gdp</th>\n      <th>gdp_per_capita</th>\n    </tr>\n  </thead>\n  <tbody>\n    <tr>\n      <th>21947</th>\n      <td>ES</td>\n      <td>Q29</td>\n      <td>country/ESP</td>\n      <td>ES</td>\n      <td>Spain</td>\n      <td>ES</td>\n      <td>ESP</td>\n      <td>0</td>\n      <td>40.0</td>\n      <td>-3.0</td>\n      <td>...</td>\n      <td>82.83171</td>\n      <td>0.891</td>\n      <td>NaN</td>\n      <td>NaN</td>\n      <td>NaN</td>\n      <td>NaN</td>\n      <td>NaN</td>\n      <td>NaN</td>\n      <td>1.311320e+12</td>\n      <td>28208.0</td>\n    </tr>\n    <tr>\n      <th>21948</th>\n      <td>ES</td>\n      <td>Q29</td>\n      <td>country/ESP</td>\n      <td>ES</td>\n      <td>Spain</td>\n      <td>ES</td>\n      <td>ESP</td>\n      <td>0</td>\n      <td>40.0</td>\n      <td>-3.0</td>\n      <td>...</td>\n      <td>82.83171</td>\n      <td>0.891</td>\n      <td>NaN</td>\n      <td>NaN</td>\n      <td>NaN</td>\n      <td>NaN</td>\n      <td>NaN</td>\n      <td>NaN</td>\n      <td>1.311320e+12</td>\n      <td>28208.0</td>\n    </tr>\n    <tr>\n      <th>21949</th>\n      <td>ES</td>\n      <td>Q29</td>\n      <td>country/ESP</td>\n      <td>ES</td>\n      <td>Spain</td>\n      <td>ES</td>\n      <td>ESP</td>\n      <td>0</td>\n      <td>40.0</td>\n      <td>-3.0</td>\n      <td>...</td>\n      <td>82.83171</td>\n      <td>0.891</td>\n      <td>NaN</td>\n      <td>NaN</td>\n      <td>NaN</td>\n      <td>NaN</td>\n      <td>NaN</td>\n      <td>NaN</td>\n      <td>1.311320e+12</td>\n      <td>28208.0</td>\n    </tr>\n    <tr>\n      <th>21950</th>\n      <td>ES</td>\n      <td>Q29</td>\n      <td>country/ESP</td>\n      <td>ES</td>\n      <td>Spain</td>\n      <td>ES</td>\n      <td>ESP</td>\n      <td>0</td>\n      <td>40.0</td>\n      <td>-3.0</td>\n      <td>...</td>\n      <td>82.83171</td>\n      <td>0.891</td>\n      <td>NaN</td>\n      <td>NaN</td>\n      <td>NaN</td>\n      <td>NaN</td>\n      <td>NaN</td>\n      <td>NaN</td>\n      <td>1.311320e+12</td>\n      <td>28208.0</td>\n    </tr>\n    <tr>\n      <th>21951</th>\n      <td>ES</td>\n      <td>Q29</td>\n      <td>country/ESP</td>\n      <td>ES</td>\n      <td>Spain</td>\n      <td>ES</td>\n      <td>ESP</td>\n      <td>0</td>\n      <td>40.0</td>\n      <td>-3.0</td>\n      <td>...</td>\n      <td>82.83171</td>\n      <td>0.891</td>\n      <td>NaN</td>\n      <td>NaN</td>\n      <td>NaN</td>\n      <td>NaN</td>\n      <td>NaN</td>\n      <td>NaN</td>\n      <td>1.311320e+12</td>\n      <td>28208.0</td>\n    </tr>\n  </tbody>\n</table>\n<p>5 rows × 65 columns</p>\n</div>"
     },
     "metadata": {},
     "execution_count": 4
    }
   ],
   "source": [
    "# Filter records for Spain at the country-level\n",
    "spain_country = data[data.key == 'ES']\n",
    "\n",
    "# We no longer need the subregion-level columns\n",
    "spain_country = spain_country.drop(columns=['subregion1_code', 'subregion1_name', 'subregion2_code', 'subregion2_name'])\n",
    "\n",
    "spain_country.tail()"
   ]
  },
  {
   "cell_type": "code",
   "execution_count": 5,
   "metadata": {},
   "outputs": [
    {
     "output_type": "execute_result",
     "data": {
      "text/plain": "         key wikidata datacommons country_code country_name subregion1_code  \\\n23221  ES_MD    Q5756   nuts/ES30           ES        Spain              MD   \n23222  ES_MD    Q5756   nuts/ES30           ES        Spain              MD   \n23223  ES_MD    Q5756   nuts/ES30           ES        Spain              MD   \n23224  ES_MD    Q5756   nuts/ES30           ES        Spain              MD   \n23225  ES_MD    Q5756   nuts/ES30           ES        Spain              MD   \n\n      subregion1_name subregion2_code subregion2_name 3166-1-alpha-2  ...  \\\n23221          Madrid             NaN             NaN             ES  ...   \n23222          Madrid             NaN             NaN             ES  ...   \n23223          Madrid             NaN             NaN             ES  ...   \n23224          Madrid             NaN             NaN             ES  ...   \n23225          Madrid             NaN             NaN             ES  ...   \n\n      life_expectancy  human_development_index  \\\n23221             NaN                      NaN   \n23222             NaN                      NaN   \n23223             NaN                      NaN   \n23224             NaN                      NaN   \n23225             NaN                      NaN   \n\n       mobility_retail_and_recreation  mobility_grocery_and_pharmacy  \\\n23221                             NaN                            NaN   \n23222                             NaN                            NaN   \n23223                             NaN                            NaN   \n23224                             NaN                            NaN   \n23225                             NaN                            NaN   \n\n       mobility_parks  mobility_transit_stations mobility_workplaces  \\\n23221             NaN                        NaN                 NaN   \n23222             NaN                        NaN                 NaN   \n23223             NaN                        NaN                 NaN   \n23224             NaN                        NaN                 NaN   \n23225             NaN                        NaN                 NaN   \n\n       mobility_residential  gdp  gdp_per_capita  \n23221                   NaN  NaN             NaN  \n23222                   NaN  NaN             NaN  \n23223                   NaN  NaN             NaN  \n23224                   NaN  NaN             NaN  \n23225                   NaN  NaN             NaN  \n\n[5 rows x 69 columns]",
      "text/html": "<div>\n<style scoped>\n    .dataframe tbody tr th:only-of-type {\n        vertical-align: middle;\n    }\n\n    .dataframe tbody tr th {\n        vertical-align: top;\n    }\n\n    .dataframe thead th {\n        text-align: right;\n    }\n</style>\n<table border=\"1\" class=\"dataframe\">\n  <thead>\n    <tr style=\"text-align: right;\">\n      <th></th>\n      <th>key</th>\n      <th>wikidata</th>\n      <th>datacommons</th>\n      <th>country_code</th>\n      <th>country_name</th>\n      <th>subregion1_code</th>\n      <th>subregion1_name</th>\n      <th>subregion2_code</th>\n      <th>subregion2_name</th>\n      <th>3166-1-alpha-2</th>\n      <th>...</th>\n      <th>life_expectancy</th>\n      <th>human_development_index</th>\n      <th>mobility_retail_and_recreation</th>\n      <th>mobility_grocery_and_pharmacy</th>\n      <th>mobility_parks</th>\n      <th>mobility_transit_stations</th>\n      <th>mobility_workplaces</th>\n      <th>mobility_residential</th>\n      <th>gdp</th>\n      <th>gdp_per_capita</th>\n    </tr>\n  </thead>\n  <tbody>\n    <tr>\n      <th>23221</th>\n      <td>ES_MD</td>\n      <td>Q5756</td>\n      <td>nuts/ES30</td>\n      <td>ES</td>\n      <td>Spain</td>\n      <td>MD</td>\n      <td>Madrid</td>\n      <td>NaN</td>\n      <td>NaN</td>\n      <td>ES</td>\n      <td>...</td>\n      <td>NaN</td>\n      <td>NaN</td>\n      <td>NaN</td>\n      <td>NaN</td>\n      <td>NaN</td>\n      <td>NaN</td>\n      <td>NaN</td>\n      <td>NaN</td>\n      <td>NaN</td>\n      <td>NaN</td>\n    </tr>\n    <tr>\n      <th>23222</th>\n      <td>ES_MD</td>\n      <td>Q5756</td>\n      <td>nuts/ES30</td>\n      <td>ES</td>\n      <td>Spain</td>\n      <td>MD</td>\n      <td>Madrid</td>\n      <td>NaN</td>\n      <td>NaN</td>\n      <td>ES</td>\n      <td>...</td>\n      <td>NaN</td>\n      <td>NaN</td>\n      <td>NaN</td>\n      <td>NaN</td>\n      <td>NaN</td>\n      <td>NaN</td>\n      <td>NaN</td>\n      <td>NaN</td>\n      <td>NaN</td>\n      <td>NaN</td>\n    </tr>\n    <tr>\n      <th>23223</th>\n      <td>ES_MD</td>\n      <td>Q5756</td>\n      <td>nuts/ES30</td>\n      <td>ES</td>\n      <td>Spain</td>\n      <td>MD</td>\n      <td>Madrid</td>\n      <td>NaN</td>\n      <td>NaN</td>\n      <td>ES</td>\n      <td>...</td>\n      <td>NaN</td>\n      <td>NaN</td>\n      <td>NaN</td>\n      <td>NaN</td>\n      <td>NaN</td>\n      <td>NaN</td>\n      <td>NaN</td>\n      <td>NaN</td>\n      <td>NaN</td>\n      <td>NaN</td>\n    </tr>\n    <tr>\n      <th>23224</th>\n      <td>ES_MD</td>\n      <td>Q5756</td>\n      <td>nuts/ES30</td>\n      <td>ES</td>\n      <td>Spain</td>\n      <td>MD</td>\n      <td>Madrid</td>\n      <td>NaN</td>\n      <td>NaN</td>\n      <td>ES</td>\n      <td>...</td>\n      <td>NaN</td>\n      <td>NaN</td>\n      <td>NaN</td>\n      <td>NaN</td>\n      <td>NaN</td>\n      <td>NaN</td>\n      <td>NaN</td>\n      <td>NaN</td>\n      <td>NaN</td>\n      <td>NaN</td>\n    </tr>\n    <tr>\n      <th>23225</th>\n      <td>ES_MD</td>\n      <td>Q5756</td>\n      <td>nuts/ES30</td>\n      <td>ES</td>\n      <td>Spain</td>\n      <td>MD</td>\n      <td>Madrid</td>\n      <td>NaN</td>\n      <td>NaN</td>\n      <td>ES</td>\n      <td>...</td>\n      <td>NaN</td>\n      <td>NaN</td>\n      <td>NaN</td>\n      <td>NaN</td>\n      <td>NaN</td>\n      <td>NaN</td>\n      <td>NaN</td>\n      <td>NaN</td>\n      <td>NaN</td>\n      <td>NaN</td>\n    </tr>\n  </tbody>\n</table>\n<p>5 rows × 69 columns</p>\n</div>"
     },
     "metadata": {},
     "execution_count": 5
    }
   ],
   "source": [
    "# Filter records for Madrid, one of the subregions of Spain\n",
    "madrid = data[data.key == 'ES_MD']\n",
    "\n",
    "madrid.tail()"
   ]
  },
  {
   "cell_type": "markdown",
   "metadata": {},
   "source": [
    "### Dataset Subsets\n",
    "The master table can be large and cumbersome depending on your application. If you only need a subset of the data, for example only epidemiology, here's how you would get only that data for Madrid:"
   ]
  },
  {
   "cell_type": "code",
   "execution_count": 6,
   "metadata": {},
   "outputs": [
    {
     "output_type": "execute_result",
     "data": {
      "text/plain": "              date    key  new_confirmed  new_deceased  new_recovered  \\\n247283  2020-05-16  ES_MD           24.0          21.0            NaN   \n251478  2020-05-17  ES_MD           39.0          16.0            NaN   \n255702  2020-05-18  ES_MD          126.0          31.0            NaN   \n259929  2020-05-19  ES_MD          139.0          18.0            NaN   \n264177  2020-05-20  ES_MD           82.0          19.0            NaN   \n\n        new_tested  total_confirmed  total_deceased  total_recovered  \\\n247283         NaN          66663.0          8847.0              NaN   \n251478         NaN          66702.0          8863.0              NaN   \n255702         NaN          66828.0          8894.0              NaN   \n259929         NaN          66967.0          8912.0              NaN   \n264177         NaN          67049.0          8931.0              NaN   \n\n        total_tested  \n247283           NaN  \n251478           NaN  \n255702           NaN  \n259929           NaN  \n264177           NaN  ",
      "text/html": "<div>\n<style scoped>\n    .dataframe tbody tr th:only-of-type {\n        vertical-align: middle;\n    }\n\n    .dataframe tbody tr th {\n        vertical-align: top;\n    }\n\n    .dataframe thead th {\n        text-align: right;\n    }\n</style>\n<table border=\"1\" class=\"dataframe\">\n  <thead>\n    <tr style=\"text-align: right;\">\n      <th></th>\n      <th>date</th>\n      <th>key</th>\n      <th>new_confirmed</th>\n      <th>new_deceased</th>\n      <th>new_recovered</th>\n      <th>new_tested</th>\n      <th>total_confirmed</th>\n      <th>total_deceased</th>\n      <th>total_recovered</th>\n      <th>total_tested</th>\n    </tr>\n  </thead>\n  <tbody>\n    <tr>\n      <th>247283</th>\n      <td>2020-05-16</td>\n      <td>ES_MD</td>\n      <td>24.0</td>\n      <td>21.0</td>\n      <td>NaN</td>\n      <td>NaN</td>\n      <td>66663.0</td>\n      <td>8847.0</td>\n      <td>NaN</td>\n      <td>NaN</td>\n    </tr>\n    <tr>\n      <th>251478</th>\n      <td>2020-05-17</td>\n      <td>ES_MD</td>\n      <td>39.0</td>\n      <td>16.0</td>\n      <td>NaN</td>\n      <td>NaN</td>\n      <td>66702.0</td>\n      <td>8863.0</td>\n      <td>NaN</td>\n      <td>NaN</td>\n    </tr>\n    <tr>\n      <th>255702</th>\n      <td>2020-05-18</td>\n      <td>ES_MD</td>\n      <td>126.0</td>\n      <td>31.0</td>\n      <td>NaN</td>\n      <td>NaN</td>\n      <td>66828.0</td>\n      <td>8894.0</td>\n      <td>NaN</td>\n      <td>NaN</td>\n    </tr>\n    <tr>\n      <th>259929</th>\n      <td>2020-05-19</td>\n      <td>ES_MD</td>\n      <td>139.0</td>\n      <td>18.0</td>\n      <td>NaN</td>\n      <td>NaN</td>\n      <td>66967.0</td>\n      <td>8912.0</td>\n      <td>NaN</td>\n      <td>NaN</td>\n    </tr>\n    <tr>\n      <th>264177</th>\n      <td>2020-05-20</td>\n      <td>ES_MD</td>\n      <td>82.0</td>\n      <td>19.0</td>\n      <td>NaN</td>\n      <td>NaN</td>\n      <td>67049.0</td>\n      <td>8931.0</td>\n      <td>NaN</td>\n      <td>NaN</td>\n    </tr>\n  </tbody>\n</table>\n</div>"
     },
     "metadata": {},
     "execution_count": 6
    }
   ],
   "source": [
    "# Load the epidemiology table\n",
    "# Note that all the helper columns such as country code, country name, aggregation level, etc. are present in the\n",
    "# `index` table; we only have the key here\n",
    "epi = pd.read_csv('https://open-covid-19.github.io/data/v2/epidemiology.csv')\n",
    "\n",
    "# Filter records for Madrid, one of the subregions of Spain\n",
    "madrid = epi[epi.key == 'ES_MD']\n",
    "\n",
    "madrid.tail()"
   ]
  },
  {
   "cell_type": "markdown",
   "metadata": {},
   "source": [
    "### Data consistency\n",
    "Often, region-level data and country-level data will come from different sources. This will lead to numbers not adding up exactly, or even date misalignment (the data for the region may be reported sooner or later than the whole country). However, country- and region- level data will *always* be self-consistent"
   ]
  }
 ],
 "metadata": {
  "file_extension": ".py",
  "kernelspec": {
   "display_name": "Python 3",
   "language": "python",
   "name": "python3"
  },
  "language_info": {
   "codemirror_mode": {
    "name": "ipython",
    "version": 3
   },
   "file_extension": ".py",
   "mimetype": "text/x-python",
   "name": "python",
   "nbconvert_exporter": "python",
   "pygments_lexer": "ipython3",
   "version": "3.7.6-final"
  },
  "mimetype": "text/x-python",
  "name": "python",
  "npconvert_exporter": "python",
  "pygments_lexer": "ipython3",
  "version": 3
 },
 "nbformat": 4,
 "nbformat_minor": 4
}